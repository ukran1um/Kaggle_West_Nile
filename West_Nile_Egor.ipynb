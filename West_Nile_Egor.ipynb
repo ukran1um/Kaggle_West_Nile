{
 "cells": [
  {
   "cell_type": "code",
   "execution_count": 1,
   "metadata": {
    "collapsed": false
   },
   "outputs": [],
   "source": [
    "import pandas as pd\n",
    "import numpy as np\n",
    "from geopy.distance import great_circle as dist\n",
    "import matplotlib.pyplot as plt\n",
    "%matplotlib inline \n",
    "from sklearn.preprocessing import StandardScaler\n",
    "from sklearn.feature_extraction.text import CountVectorizer\n",
    "\n",
    "import warnings\n",
    "warnings.filterwarnings('ignore')\n",
    "\n",
    "#spray = pd.read_csv('data/spray.csv')\n",
    "#train = pd.read_csv('data/train.csv')\n",
    "#test = pd.read_csv('data/test.csv')\n",
    "#weather = pd.read_csv('data/weather.csv')\n",
    "\n"
   ]
  },
  {
   "cell_type": "markdown",
   "metadata": {},
   "source": [
    "## Data Clean Up"
   ]
  },
  {
   "cell_type": "code",
   "execution_count": 2,
   "metadata": {
    "collapsed": true
   },
   "outputs": [],
   "source": [
    "def closer_station(point):\n",
    "    from geopy.distance import great_circle as dist\n",
    "    Stat1 = (41.995,-87.933)\n",
    "    Stat2 = (41.786,-87.752)\n",
    "    if dist(point, Stat2).miles > dist(point, Stat1).miles:\n",
    "        return 1\n",
    "    else: return 2"
   ]
  },
  {
   "cell_type": "code",
   "execution_count": 3,
   "metadata": {
    "collapsed": false,
    "scrolled": false
   },
   "outputs": [],
   "source": [
    "def processtest(locstring):\n",
    "    test = pd.read_csv(locstring, skip_blank_lines= True)\n",
    "    test.set_index(\"Date\", inplace = 1, drop =0)\n",
    "    test.index = test.index.to_datetime()\n",
    "    test[\"t_latlong\"] = zip(test.Latitude, test.Longitude)\n",
    "    test[\"Station\"] = [closer_station(_) for _ in test.t_latlong]\n",
    "    Stat1 = (41.995,-87.933)\n",
    "    Stat2 = (41.786,-87.752)\n",
    "    test[\"dist1\"] = [dist(_, Stat1).miles for _ in test.t_latlong]\n",
    "    test[\"dist2\"] = [dist(_, Stat2).miles for _ in test.t_latlong]\n",
    "    return test\n",
    "\n",
    "#processtest('data/train.csv').tail(1)"
   ]
  },
  {
   "cell_type": "code",
   "execution_count": 4,
   "metadata": {
    "collapsed": false,
    "scrolled": true
   },
   "outputs": [],
   "source": [
    "def processweather(locstring):\n",
    "    \n",
    "    weather = pd.read_csv(locstring, na_values=[\"M\", \"T\", \"  T\", \"-\"], skip_blank_lines= True)\n",
    "    weather.set_index(\"Date\", inplace = 1, drop = 0)\n",
    "    weather.index = weather.index.to_datetime()\n",
    "    return weather\n",
    "\n",
    "#processweather('data/weather.csv').head(1).drop(\"ResultDir\", axis = 1)"
   ]
  },
  {
   "cell_type": "code",
   "execution_count": 5,
   "metadata": {
    "collapsed": true
   },
   "outputs": [],
   "source": [
    "weather = processweather('data/weather.csv').drop([\"Water1\", \"CodeSum\", \n",
    "                                                   \"Depth\", \"SnowFall\", \"SeaLevel\", \"ResultDir\"], axis = 1)\n",
    "#weather.ResultDir = weather.ResultDir.astype(\"object\")\n",
    "\n",
    "w1 = weather[weather.Station==1]\n",
    "w2 = weather[weather.Station==2]\n",
    "\n",
    "#nums = [1]\n",
    "nums = [1,2,3,4,5,6,7,8,9,10,11,12,13,14]\n",
    "\n",
    "for col in w1.columns.drop(\"Date\"):\n",
    "    for n in nums:\n",
    "        w1[u\"prev_{}_\".format(n)+col] = w1[col].shift(n)\n",
    "for col in w2.columns.drop(\"Date\"):\n",
    "    for n in nums:\n",
    "        w2[u\"prev_{}_\".format(n)+col] = w2[col].shift(n)\n",
    "\n",
    "#weather = w1.append(w2)"
   ]
  },
  {
   "cell_type": "code",
   "execution_count": 6,
   "metadata": {
    "collapsed": false
   },
   "outputs": [],
   "source": [
    "def set_up_train(test = 0):\n",
    "    from sklearn.preprocessing import StandardScaler, Imputer\n",
    "    \"\"\" returns the y,X\"\"\"\n",
    "    \n",
    "    if test == 1:\n",
    "        temp = processtest('data/test.csv')\n",
    "    else:\n",
    "        temp = processtest('data/train.csv')\n",
    "\n",
    "    weather = processweather('data/weather.csv').drop([\"Water1\", \"CodeSum\", \n",
    "                                                       \"Depth\", \"SnowFall\", \"SeaLevel\", \"ResultDir\"], axis = 1)\n",
    "    #weather.ResultDir = weather.ResultDir.astype(\"object\")\n",
    "\n",
    "    w1 = weather[weather.Station==1]\n",
    "    w2 = weather[weather.Station==2]\n",
    "\n",
    "    \n",
    "    nums = [1,2,3,4,6,8,10,12]\n",
    "\n",
    "    for col in w1.columns.drop(\"Date\"):\n",
    "        for n in nums:\n",
    "            w1[u\"prev_{}_\".format(n)+col] = w1[col].shift(n)\n",
    "    for col in w2.columns.drop(\"Date\"):\n",
    "        for n in nums:\n",
    "            w2[u\"prev_{}_\".format(n)+col] = w2[col].shift(n)\n",
    "\n",
    "    weather = w1.append(w2)        \n",
    "\n",
    "\n",
    "    data = pd.merge(temp, weather, how = \"left\", on= [\"Station\", \"Date\"], left_index=0, right_index=0)\n",
    "    \n",
    "    if test != 1:\n",
    "        weights = data.pivot_table(values = [\"NumMosquitos\"], index = [\"Trap\",\"Date\"], aggfunc = \"sum\")/\\\n",
    "        data.pivot_table(values = [\"NumMosquitos\"], index = [\"Trap\"], aggfunc = \"sum\")\n",
    "\n",
    "        weights = np.array(data.merge(weights.reset_index(), how = \"left\", on = [\"Trap\", \"Date\"]).NumMosquitos_y)\n",
    "    else:\n",
    "        pass\n",
    "    \n",
    "    \n",
    "    data.set_index(\"Date\", inplace = 1)\n",
    "    data.index = data.index.to_datetime()\n",
    "    data[\"month\"] = [_ for _ in data.index.month]\n",
    "    data[\"week\"] = [_ for _ in data.index.weekday]\n",
    "    data[\"year\"] = [_ for _ in data.index.year]\n",
    "\n",
    "    if test != 1:\n",
    "        y = data.WnvPresent\n",
    "    else: \n",
    "        pass\n",
    "\n",
    "    X = data.drop([\"t_latlong\", \"AddressNumberAndStreet\", \"AddressAccuracy\", \n",
    "                   \"Trap\", \"Block\", \"Street\", \"Address\", \"Station\"], axis = 1)\n",
    "    if test != 1:\n",
    "        X.drop([\"WnvPresent\", \"NumMosquitos\"], axis = 1, inplace = 1)\n",
    "    else:\n",
    "        pass\n",
    "    \n",
    "    numcols = X.columns[(X.dtypes == \"float64\") |(X.dtypes == \"int64\")]\n",
    "    #X = X.fillna(method = \"bfill\", axis = \"columns\").fillna(method = \"ffill\", axis = \"columns\")\n",
    "    \n",
    "    X[numcols] = Imputer(axis = 1).fit_transform(X[numcols])\n",
    "    \n",
    "    #for col in numcols:\n",
    "    #    X[col] = X[col].interpolate() \n",
    "    X[numcols] = StandardScaler().fit_transform(X[numcols])\n",
    "\n",
    "    X.loc[X.Species == \"UNSPECIFIED CULEX\", \"Species\"] = \"CULEX PIPIENS\"\n",
    "    catcols = X.columns[(X.dtypes == \"object\")]\n",
    "    X = pd.get_dummies(X, columns = catcols, drop_first=True)\n",
    "\n",
    "    if test == 1:\n",
    "        return X.iloc[:,1:]\n",
    "    else:\n",
    "        return y , X , weights\n"
   ]
  },
  {
   "cell_type": "markdown",
   "metadata": {},
   "source": [
    "## Model Selection"
   ]
  },
  {
   "cell_type": "code",
   "execution_count": 45,
   "metadata": {
    "collapsed": false
   },
   "outputs": [],
   "source": [
    "y , X , w = set_up_train()"
   ]
  },
  {
   "cell_type": "code",
   "execution_count": 46,
   "metadata": {
    "collapsed": false
   },
   "outputs": [
    {
     "data": {
      "text/plain": [
       "0    0.947554\n",
       "1    0.052446\n",
       "Name: WnvPresent, dtype: float64"
      ]
     },
     "execution_count": 46,
     "metadata": {},
     "output_type": "execute_result"
    }
   ],
   "source": [
    "from sklearn.cross_validation import train_test_split, KFold, cross_val_score\n",
    "from sklearn.metrics import accuracy_score, precision_score, recall_score, confusion_matrix, classification_report \n",
    "\n",
    "#X_train, X_test, y_train, y_test = train_test_split(X, y, test_size=0.6, random_state=42, stratify=y)\n",
    "\n",
    "y.value_counts()/len(y)"
   ]
  },
  {
   "cell_type": "code",
   "execution_count": 47,
   "metadata": {
    "collapsed": true
   },
   "outputs": [],
   "source": [
    "\n",
    "def print_cm_cr(y_true, y_pred, names):\n",
    "    \"\"\"prints the confusion matrix and the classification report\"\"\"\n",
    "    cm = confusion_matrix(y_true, y_pred)\n",
    "    cols = ['pred_' + c for c in names]\n",
    "    dfcm = pd.DataFrame(cm, columns = cols, index = names)\n",
    "    print dfcm\n",
    "    print\n",
    "    print classification_report(y_true, y_pred)"
   ]
  },
  {
   "cell_type": "code",
   "execution_count": 48,
   "metadata": {
    "collapsed": true
   },
   "outputs": [],
   "source": [
    "\n",
    "\n",
    "def evaluate_model(model, weights):\n",
    "    model.fit(X, y, sample_weight = weights)\n",
    "    y_pred = model.predict(X)\n",
    "    \n",
    "    a = accuracy_score(y, y_pred)\n",
    "    \n",
    "    print_cm_cr(y, y_pred, [\"no_WN\", \"WN\"])\n",
    "    \n",
    "    return a\n",
    "\n"
   ]
  },
  {
   "cell_type": "markdown",
   "metadata": {},
   "source": [
    "### Random Forest / Extra Tree"
   ]
  },
  {
   "cell_type": "code",
   "execution_count": 49,
   "metadata": {
    "collapsed": false
   },
   "outputs": [],
   "source": [
    "from sklearn.ensemble import RandomForestClassifier, ExtraTreesClassifier"
   ]
  },
  {
   "cell_type": "code",
   "execution_count": 50,
   "metadata": {
    "collapsed": false,
    "scrolled": true
   },
   "outputs": [
    {
     "name": "stdout",
     "output_type": "stream",
     "text": [
      "       pred_no_WN  pred_WN\n",
      "no_WN        9938       17\n",
      "WN            182      369\n",
      "\n",
      "             precision    recall  f1-score   support\n",
      "\n",
      "          0       0.98      1.00      0.99      9955\n",
      "          1       0.96      0.67      0.79       551\n",
      "\n",
      "avg / total       0.98      0.98      0.98     10506\n",
      "\n"
     ]
    },
    {
     "data": {
      "text/plain": [
       "0.98105844279459353"
      ]
     },
     "execution_count": 50,
     "metadata": {},
     "output_type": "execute_result"
    }
   ],
   "source": [
    "rf = RandomForestClassifier(n_estimators=500, n_jobs = -1, criterion = \"gini\", min_samples_leaf=1)\n",
    "\n",
    "\n",
    "evaluate_model(rf, w)\n",
    "\n"
   ]
  },
  {
   "cell_type": "code",
   "execution_count": 51,
   "metadata": {
    "collapsed": false,
    "scrolled": false
   },
   "outputs": [
    {
     "name": "stdout",
     "output_type": "stream",
     "text": [
      "       pred_no_WN  pred_WN\n",
      "no_WN        9945       10\n",
      "WN            189      362\n",
      "\n",
      "             precision    recall  f1-score   support\n",
      "\n",
      "          0       0.98      1.00      0.99      9955\n",
      "          1       0.97      0.66      0.78       551\n",
      "\n",
      "avg / total       0.98      0.98      0.98     10506\n",
      "\n"
     ]
    },
    {
     "data": {
      "text/plain": [
       "0.98105844279459353"
      ]
     },
     "execution_count": 51,
     "metadata": {},
     "output_type": "execute_result"
    }
   ],
   "source": [
    "et = ExtraTreesClassifier(n_estimators=500, n_jobs = -1)\n",
    "\n",
    "\n",
    "evaluate_model(et, w)"
   ]
  },
  {
   "cell_type": "markdown",
   "metadata": {},
   "source": [
    "### SVM"
   ]
  },
  {
   "cell_type": "code",
   "execution_count": 52,
   "metadata": {
    "collapsed": false
   },
   "outputs": [],
   "source": [
    "from sklearn.svm import SVC\n",
    "\n"
   ]
  },
  {
   "cell_type": "code",
   "execution_count": 53,
   "metadata": {
    "collapsed": false
   },
   "outputs": [
    {
     "name": "stdout",
     "output_type": "stream",
     "text": [
      "       pred_no_WN  pred_WN\n",
      "no_WN        9888       67\n",
      "WN            468       83\n",
      "\n",
      "             precision    recall  f1-score   support\n",
      "\n",
      "          0       0.95      0.99      0.97      9955\n",
      "          1       0.55      0.15      0.24       551\n",
      "\n",
      "avg / total       0.93      0.95      0.94     10506\n",
      "\n"
     ]
    },
    {
     "data": {
      "text/plain": [
       "0.94907671806586713"
      ]
     },
     "execution_count": 53,
     "metadata": {},
     "output_type": "execute_result"
    }
   ],
   "source": [
    "svm = SVC(C=5000)\n",
    "\n",
    "\n",
    "evaluate_model(svm, w)"
   ]
  },
  {
   "cell_type": "code",
   "execution_count": 54,
   "metadata": {
    "collapsed": false,
    "scrolled": false
   },
   "outputs": [
    {
     "name": "stdout",
     "output_type": "stream",
     "text": [
      "       pred_no_WN  pred_WN\n",
      "no_WN        9896       59\n",
      "WN            472       79\n",
      "\n",
      "             precision    recall  f1-score   support\n",
      "\n",
      "          0       0.95      0.99      0.97      9955\n",
      "          1       0.57      0.14      0.23       551\n",
      "\n",
      "avg / total       0.93      0.95      0.93     10506\n",
      "\n"
     ]
    },
    {
     "data": {
      "text/plain": [
       "0.94945745288406624"
      ]
     },
     "execution_count": 54,
     "metadata": {},
     "output_type": "execute_result"
    }
   ],
   "source": [
    "from sklearn.ensemble import BaggingClassifier\n",
    "\n",
    "baggingsvc = BaggingClassifier(svm, n_estimators = 50, n_jobs=-1)\n",
    "\n",
    "\n",
    "evaluate_model(baggingsvc, w)"
   ]
  },
  {
   "cell_type": "markdown",
   "metadata": {},
   "source": [
    "### Decision Trees"
   ]
  },
  {
   "cell_type": "code",
   "execution_count": 55,
   "metadata": {
    "collapsed": false
   },
   "outputs": [
    {
     "name": "stdout",
     "output_type": "stream",
     "text": [
      "       pred_no_WN  pred_WN\n",
      "no_WN        9937       18\n",
      "WN            182      369\n",
      "\n",
      "             precision    recall  f1-score   support\n",
      "\n",
      "          0       0.98      1.00      0.99      9955\n",
      "          1       0.95      0.67      0.79       551\n",
      "\n",
      "avg / total       0.98      0.98      0.98     10506\n",
      "\n"
     ]
    },
    {
     "data": {
      "text/plain": [
       "0.98096325909004378"
      ]
     },
     "execution_count": 55,
     "metadata": {},
     "output_type": "execute_result"
    }
   ],
   "source": [
    "from sklearn.ensemble import BaggingClassifier\n",
    "from sklearn.tree import DecisionTreeClassifier\n",
    "\n",
    "dt = DecisionTreeClassifier()\n",
    "\n",
    "baggingdt = BaggingClassifier(dt, n_estimators= 100, n_jobs=-1)\n",
    "\n",
    "\n",
    "evaluate_model(baggingdt, w)\n",
    "\n",
    "\n"
   ]
  },
  {
   "cell_type": "markdown",
   "metadata": {},
   "source": [
    "### Logistic Regression"
   ]
  },
  {
   "cell_type": "code",
   "execution_count": 56,
   "metadata": {
    "collapsed": true
   },
   "outputs": [],
   "source": [
    "from sklearn.linear_model import LogisticRegressionCV"
   ]
  },
  {
   "cell_type": "code",
   "execution_count": 57,
   "metadata": {
    "collapsed": false,
    "scrolled": true
   },
   "outputs": [
    {
     "name": "stdout",
     "output_type": "stream",
     "text": [
      "       pred_no_WN  pred_WN\n",
      "no_WN        6864     3091\n",
      "WN             76      475\n",
      "\n",
      "             precision    recall  f1-score   support\n",
      "\n",
      "          0       0.99      0.69      0.81      9955\n",
      "          1       0.13      0.86      0.23       551\n",
      "\n",
      "avg / total       0.94      0.70      0.78     10506\n",
      "\n"
     ]
    },
    {
     "data": {
      "text/plain": [
       "0.69855320769084328"
      ]
     },
     "execution_count": 57,
     "metadata": {},
     "output_type": "execute_result"
    }
   ],
   "source": [
    "lr = LogisticRegressionCV(n_jobs = -1, class_weight=\"balanced\")\n",
    "\n",
    "\n",
    "evaluate_model(lr, w)"
   ]
  },
  {
   "cell_type": "markdown",
   "metadata": {},
   "source": [
    "### SGD"
   ]
  },
  {
   "cell_type": "code",
   "execution_count": 58,
   "metadata": {
    "collapsed": false
   },
   "outputs": [
    {
     "name": "stdout",
     "output_type": "stream",
     "text": [
      "       pred_no_WN  pred_WN\n",
      "no_WN        5378     4577\n",
      "WN             57      494\n",
      "\n",
      "             precision    recall  f1-score   support\n",
      "\n",
      "          0       0.99      0.54      0.70      9955\n",
      "          1       0.10      0.90      0.18       551\n",
      "\n",
      "avg / total       0.94      0.56      0.67     10506\n",
      "\n"
     ]
    },
    {
     "data": {
      "text/plain": [
       "0.55891871311631447"
      ]
     },
     "execution_count": 58,
     "metadata": {},
     "output_type": "execute_result"
    }
   ],
   "source": [
    "from sklearn.linear_model import SGDClassifier\n",
    "sgd = SGDClassifier(n_iter=100, class_weight= \"balanced\")\n",
    "\n",
    "evaluate_model(sgd, w)\n"
   ]
  },
  {
   "cell_type": "markdown",
   "metadata": {},
   "source": [
    "### Boost"
   ]
  },
  {
   "cell_type": "code",
   "execution_count": 59,
   "metadata": {
    "collapsed": false,
    "scrolled": true
   },
   "outputs": [
    {
     "name": "stdout",
     "output_type": "stream",
     "text": [
      "       pred_no_WN  pred_WN\n",
      "no_WN        9928       27\n",
      "WN            524       27\n",
      "\n",
      "             precision    recall  f1-score   support\n",
      "\n",
      "          0       0.95      1.00      0.97      9955\n",
      "          1       0.50      0.05      0.09       551\n",
      "\n",
      "avg / total       0.93      0.95      0.93     10506\n",
      "\n"
     ]
    },
    {
     "data": {
      "text/plain": [
       "0.94755377879307068"
      ]
     },
     "execution_count": 59,
     "metadata": {},
     "output_type": "execute_result"
    }
   ],
   "source": [
    "from sklearn.ensemble import AdaBoostClassifier\n",
    "\n",
    "lr2 = LogisticRegressionCV()\n",
    "boostlr = AdaBoostClassifier(lr2)\n",
    "\n",
    "evaluate_model(boostlr, w)"
   ]
  },
  {
   "cell_type": "markdown",
   "metadata": {},
   "source": [
    "# Predict"
   ]
  },
  {
   "cell_type": "code",
   "execution_count": 7,
   "metadata": {
    "collapsed": false
   },
   "outputs": [],
   "source": [
    "y,X, w = set_up_train()"
   ]
  },
  {
   "cell_type": "code",
   "execution_count": 8,
   "metadata": {
    "collapsed": false
   },
   "outputs": [],
   "source": [
    "Xtest = set_up_train(test = 1)"
   ]
  },
  {
   "cell_type": "code",
   "execution_count": 9,
   "metadata": {
    "collapsed": false
   },
   "outputs": [
    {
     "data": {
      "text/plain": [
       "ExtraTreesClassifier(bootstrap=False, class_weight='balanced',\n",
       "           criterion='gini', max_depth=None, max_features='auto',\n",
       "           max_leaf_nodes=None, min_samples_leaf=1, min_samples_split=2,\n",
       "           min_weight_fraction_leaf=0.0, n_estimators=5000, n_jobs=-1,\n",
       "           oob_score=False, random_state=None, verbose=0, warm_start=False)"
      ]
     },
     "execution_count": 9,
     "metadata": {},
     "output_type": "execute_result"
    }
   ],
   "source": [
    "from sklearn.ensemble import ExtraTreesClassifier\n",
    "et = ExtraTreesClassifier(n_estimators=5000, n_jobs = -1, class_weight=\"balanced\")\n",
    "\n",
    "\n",
    "et.fit(X,y, w)\n"
   ]
  },
  {
   "cell_type": "code",
   "execution_count": 10,
   "metadata": {
    "collapsed": false
   },
   "outputs": [],
   "source": [
    "test_pred = et.predict_proba(Xtest)[:,1]"
   ]
  },
  {
   "cell_type": "code",
   "execution_count": 11,
   "metadata": {
    "collapsed": false
   },
   "outputs": [],
   "source": [
    "pd.DataFrame({\"Id\" : range(1,len(test_pred)+1), \"WnvPresent\" : test_pred}).to_csv(\"ek_submit.csv\", index = False)"
   ]
  },
  {
   "cell_type": "code",
   "execution_count": null,
   "metadata": {
    "collapsed": false
   },
   "outputs": [],
   "source": []
  },
  {
   "cell_type": "code",
   "execution_count": null,
   "metadata": {
    "collapsed": true
   },
   "outputs": [],
   "source": []
  },
  {
   "cell_type": "code",
   "execution_count": null,
   "metadata": {
    "collapsed": true
   },
   "outputs": [],
   "source": []
  },
  {
   "cell_type": "code",
   "execution_count": null,
   "metadata": {
    "collapsed": true
   },
   "outputs": [],
   "source": []
  },
  {
   "cell_type": "code",
   "execution_count": null,
   "metadata": {
    "collapsed": true
   },
   "outputs": [],
   "source": []
  },
  {
   "cell_type": "code",
   "execution_count": null,
   "metadata": {
    "collapsed": true
   },
   "outputs": [],
   "source": []
  },
  {
   "cell_type": "code",
   "execution_count": null,
   "metadata": {
    "collapsed": true
   },
   "outputs": [],
   "source": []
  },
  {
   "cell_type": "code",
   "execution_count": null,
   "metadata": {
    "collapsed": true
   },
   "outputs": [],
   "source": []
  },
  {
   "cell_type": "code",
   "execution_count": null,
   "metadata": {
    "collapsed": true
   },
   "outputs": [],
   "source": []
  },
  {
   "cell_type": "code",
   "execution_count": null,
   "metadata": {
    "collapsed": true
   },
   "outputs": [],
   "source": []
  },
  {
   "cell_type": "code",
   "execution_count": null,
   "metadata": {
    "collapsed": true
   },
   "outputs": [],
   "source": []
  }
 ],
 "metadata": {
  "anaconda-cloud": {},
  "kernelspec": {
   "display_name": "Python [Root]",
   "language": "python",
   "name": "Python [Root]"
  },
  "language_info": {
   "codemirror_mode": {
    "name": "ipython",
    "version": 2
   },
   "file_extension": ".py",
   "mimetype": "text/x-python",
   "name": "python",
   "nbconvert_exporter": "python",
   "pygments_lexer": "ipython2",
   "version": "2.7.12"
  }
 },
 "nbformat": 4,
 "nbformat_minor": 0
}
